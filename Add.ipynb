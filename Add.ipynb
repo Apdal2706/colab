{
  "nbformat": 4,
  "nbformat_minor": 0,
  "metadata": {
    "colab": {
      "provenance": [],
      "authorship_tag": "ABX9TyMWL5LIr5C9vhKosyV+DqzX",
      "include_colab_link": true
    },
    "kernelspec": {
      "name": "python3",
      "display_name": "Python 3"
    },
    "language_info": {
      "name": "python"
    }
  },
  "cells": [
    {
      "cell_type": "markdown",
      "metadata": {
        "id": "view-in-github",
        "colab_type": "text"
      },
      "source": [
        "<a href=\"https://colab.research.google.com/github/Apdal2706/colab/blob/main/Add.ipynb\" target=\"_parent\"><img src=\"https://colab.research.google.com/assets/colab-badge.svg\" alt=\"Open In Colab\"/></a>"
      ]
    },
    {
      "cell_type": "code",
      "source": [
        "#@title install lora\n",
        "from google.colab import drive \n",
        "drive.mount(\"/content/drive\")\n",
        "\n",
        "\n",
        "apt-get -y install -qq aria2\n",
        "#@markdown ## ***Install Lora***\n",
        "lora = \" \" #@param {type: \"string\"}\n",
        "lora_n = \".safetensors\" #@param {type: \"string\"}\n",
        "\n",
        "lora2 = \" \" #@param {type: \"string\"} \n",
        "lora_n2 = \".safetensors\" #@param = {type: \"string\"}\n",
        "\n",
        "lora3 = \" \" #@param {type: \"string\"}\n",
        "lora_n3 = \".sfetensors\" #@param {type: \"string\"}\n",
        "\n",
        "!aria2c --console-log-level=error -c -x 16 -s 16 -k 1M {lora} -d /content/drive/MyDrive/stable-diffusion-webui-colab/stable-diffusion-webui/models/Lora -o {lora_n}\n",
        "!aria2c --console-log-level=error -c -x 16 -s 16 -k 1M {lora2} -d /content/drive/MyDrive/stable-diffusion-webui-colab/stable-diffusion-webui/models/Lora -o {lora_n2}\n",
        "!aria2c --console-log-level=error -c -x 16 -s 16 -k 1M {lora3} -d /content/drive/MyDrive/stable-diffusion-webui-colab/stable-diffusion-webui/models/Lora -o {lora_n3}"
      ],
      "metadata": {
        "id": "POPvoSLIMG-s",
        "cellView": "form"
      },
      "execution_count": null,
      "outputs": []
    },
    {
      "cell_type": "code",
      "source": [
        "#@title install sd_vae\n",
        "from google.colab import drive\n",
        "drive.mount('/content/drive')\n",
        "\n",
        "!apt-get -y install -qq aria2\n",
        "#@markdown ## Install sd_vae\n",
        "model_url = \"https://huggingface.co/stabilityai/sd-vae-ft-mse-original/resolve/main/vae-ft-mse-840000-ema-pruned.safetensors\" #@param {type:\"string\"}\n",
        "model_name = \"Vae-840000.safetensors\" #@param {type:\"string\"}\n",
        "\n",
        "!aria2c --console-log-level=error -c -x 16 -s 16 -k 1M {model_url} -d /content/drive/MyDrive/stable-diffusion-webui-colab/stable-diffusion-webui/models/Vae -o {model_name}"
      ],
      "metadata": {
        "cellView": "form",
        "id": "CxfzygBFMfzM"
      },
      "execution_count": null,
      "outputs": []
    },
    {
      "cell_type": "code",
      "source": [
        "#@title install chekpoit\n",
        "from google.colab import drive \n",
        "drive.mount(\"/content/drive\")\n",
        "\n",
        "\n",
        "apt-get -y install -qq aria2\n",
        "#@markdown ## ***Install Lora***\n",
        "ckpt= \" \" #@param {type: \"string\"}\n",
        "ckpt_n = \".safetensors\" #@param {type: \"string\"}\n",
        "\n",
        "ckpt2 = \" \" #@param {type: \"string\"} \n",
        "ckpt_n2 = \".safetensors\" #@param = {type: \"string\"}\n",
        "\n",
        "\n",
        "\n",
        "!aria2c --console-log-level=error -c -x 16 -s 16 -k 1M {lora} -d /content/drive/MyDrive/stable-diffusion-webui-colab/stable-diffusion-webui/models/Stable-diffusion -o {ckpt_n}\n",
        "!aria2c --console-log-level=error -c -x 16 -s 16 -k 1M {lora2} -d /content/drive/MyDrive/stable-diffusion-webui-colab/stable-diffusion-webui/models/Stable-diffusion -o {ckpt_n2}\n",
        "\n"
      ],
      "metadata": {
        "cellView": "form",
        "id": "TB0szaezQXBH"
      },
      "execution_count": null,
      "outputs": []
    }
  ]
}